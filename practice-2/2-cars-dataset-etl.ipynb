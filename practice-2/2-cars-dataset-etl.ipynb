{
 "cells": [
  {
   "cell_type": "markdown",
   "id": "54ae5551",
   "metadata": {},
   "source": [
    "# Практика PySpark и SparkSQL (pyspark.sql.functions)"
   ]
  },
  {
   "cell_type": "markdown",
   "id": "a5b500f5",
   "metadata": {},
   "source": [
    "**Задача**. Сделать пайплайн обработки файла `cars.csv`. \n",
    "\n",
    "Необходимо посчитать по каждому производителю (поле `manufacturer_name`):\n",
    "- кол-во объявлений\n",
    "- средний год выпуска автомобилей\n",
    "- минимальную цену\n",
    "- максимальную цену\n",
    "\n",
    "Выгрузить результат в `output.csv`."
   ]
  },
  {
   "cell_type": "code",
   "execution_count": 1,
   "id": "8fe9673c",
   "metadata": {},
   "outputs": [],
   "source": [
    "from pyspark.sql import SparkSession, DataFrame\n",
    "import pyspark.sql.functions as F\n",
    "import pyspark.sql.types as t\n",
    "\n",
    "\n",
    "def extract_data(spark: SparkSession) -> DataFrame:\n",
    "    path = \"data/cars.csv\"\n",
    "    return spark.read.option(\"header\", \"true\").csv(path)\n",
    "\n",
    "\n",
    "def transform_data(df: DataFrame) -> DataFrame:\n",
    "    output = (\n",
    "        df\n",
    "        .groupBy(\"manufacturer_name\")\n",
    "        .agg(\n",
    "            F.count(\"manufacturer_name\").alias(\"count_ads\"),\n",
    "            F.round(F.avg(\"year_produced\")).cast(t.IntegerType()).alias(\"avg_year_produced\"),\n",
    "            F.min(\"price_usd\").alias(\"min_price\"),\n",
    "            F.max(\"price_usd\").alias(\"max_price\"),\n",
    "        )\n",
    "        .orderBy(F.col(\"count_ads\").desc())\n",
    "    )\n",
    "    return output\n",
    "\n",
    "\n",
    "def save_data(df: DataFrame) -> None:\n",
    "    df.coalesce(4).write.mode(\"overwrite\").format(\"json\").save(\"output.json\")\n",
    "\n",
    "\n",
    "def main():\n",
    "    spark = SparkSession.builder.appName(\"Practice 2\").getOrCreate()\n",
    "    df = extract_data(spark)\n",
    "    output = transform_data(df)\n",
    "    save_data(output)\n",
    "    #spark.stop()\n",
    "\n",
    "main()\n"
   ]
  },
  {
   "cell_type": "code",
   "execution_count": null,
   "id": "6408e0da",
   "metadata": {},
   "outputs": [],
   "source": []
  }
 ],
 "metadata": {
  "kernelspec": {
   "display_name": "Python 3",
   "language": "python",
   "name": "python3"
  },
  "language_info": {
   "codemirror_mode": {
    "name": "ipython",
    "version": 3
   },
   "file_extension": ".py",
   "mimetype": "text/x-python",
   "name": "python",
   "nbconvert_exporter": "python",
   "pygments_lexer": "ipython3",
   "version": "3.9.5"
  }
 },
 "nbformat": 4,
 "nbformat_minor": 5
}
